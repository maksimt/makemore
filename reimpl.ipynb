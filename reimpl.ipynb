{
 "cells": [
  {
   "cell_type": "code",
   "execution_count": 1,
   "id": "c2596aae-06c4-42a2-8b4f-a9522d11b53c",
   "metadata": {},
   "outputs": [
    {
     "name": "stdout",
     "output_type": "stream",
     "text": [
      "Collecting torch\n",
      "  Downloading torch-2.1.2-cp39-cp39-manylinux1_x86_64.whl (670.2 MB)\n",
      "\u001b[2K     \u001b[90m━━━━━━━━━━━━━━━━━━━━━━━━━━━━━━━━━━━━━━\u001b[0m \u001b[32m670.2/670.2 MB\u001b[0m \u001b[31m10.1 MB/s\u001b[0m eta \u001b[36m0:00:00\u001b[0m00:01\u001b[0m00:01\u001b[0m\n",
      "\u001b[?25hCollecting triton==2.1.0\n",
      "  Downloading triton-2.1.0-0-cp39-cp39-manylinux2014_x86_64.manylinux_2_17_x86_64.whl (89.3 MB)\n",
      "\u001b[2K     \u001b[90m━━━━━━━━━━━━━━━━━━━━━━━━━━━━━━━━━━━━━━━━\u001b[0m \u001b[32m89.3/89.3 MB\u001b[0m \u001b[31m29.9 MB/s\u001b[0m eta \u001b[36m0:00:00\u001b[0m00:01\u001b[0m00:01\u001b[0m\n",
      "\u001b[?25hCollecting nvidia-curand-cu12==10.3.2.106\n",
      "  Downloading nvidia_curand_cu12-10.3.2.106-py3-none-manylinux1_x86_64.whl (56.5 MB)\n",
      "\u001b[2K     \u001b[90m━━━━━━━━━━━━━━━━━━━━━━━━━━━━━━━━━━━━━━━━\u001b[0m \u001b[32m56.5/56.5 MB\u001b[0m \u001b[31m37.7 MB/s\u001b[0m eta \u001b[36m0:00:00\u001b[0m00:01\u001b[0m00:01\u001b[0m\n",
      "\u001b[?25hRequirement already satisfied: fsspec in /opt/conda/lib/python3.9/site-packages (from torch) (2022.1.0)\n",
      "Collecting nvidia-cusolver-cu12==11.4.5.107\n",
      "  Downloading nvidia_cusolver_cu12-11.4.5.107-py3-none-manylinux1_x86_64.whl (124.2 MB)\n",
      "\u001b[2K     \u001b[90m━━━━━━━━━━━━━━━━━━━━━━━━━━━━━━━━━━━━━━\u001b[0m \u001b[32m124.2/124.2 MB\u001b[0m \u001b[31m27.2 MB/s\u001b[0m eta \u001b[36m0:00:00\u001b[0m00:01\u001b[0m00:01\u001b[0m\n",
      "\u001b[?25hCollecting nvidia-cublas-cu12==12.1.3.1\n",
      "  Downloading nvidia_cublas_cu12-12.1.3.1-py3-none-manylinux1_x86_64.whl (410.6 MB)\n",
      "\u001b[2K     \u001b[90m━━━━━━━━━━━━━━━━━━━━━━━━━━━━━━━━━━━━━━\u001b[0m \u001b[32m410.6/410.6 MB\u001b[0m \u001b[31m14.0 MB/s\u001b[0m eta \u001b[36m0:00:00\u001b[0m00:01\u001b[0m00:01\u001b[0m\n",
      "\u001b[?25hRequirement already satisfied: sympy in /opt/conda/lib/python3.9/site-packages (from torch) (1.9)\n",
      "Collecting nvidia-cuda-nvrtc-cu12==12.1.105\n",
      "  Downloading nvidia_cuda_nvrtc_cu12-12.1.105-py3-none-manylinux1_x86_64.whl (23.7 MB)\n",
      "\u001b[2K     \u001b[90m━━━━━━━━━━━━━━━━━━━━━━━━━━━━━━━━━━━━━━━━\u001b[0m \u001b[32m23.7/23.7 MB\u001b[0m \u001b[31m49.6 MB/s\u001b[0m eta \u001b[36m0:00:00\u001b[0m00:01\u001b[0m00:01\u001b[0m\n",
      "\u001b[?25hRequirement already satisfied: networkx in /opt/conda/lib/python3.9/site-packages (from torch) (2.6.3)\n",
      "Collecting nvidia-nvtx-cu12==12.1.105\n",
      "  Downloading nvidia_nvtx_cu12-12.1.105-py3-none-manylinux1_x86_64.whl (99 kB)\n",
      "\u001b[2K     \u001b[90m━━━━━━━━━━━━━━━━━━━━━━━━━━━━━━━━━━━━━━━━\u001b[0m \u001b[32m99.1/99.1 KB\u001b[0m \u001b[31m46.1 MB/s\u001b[0m eta \u001b[36m0:00:00\u001b[0m\n",
      "\u001b[?25hRequirement already satisfied: jinja2 in /opt/conda/lib/python3.9/site-packages (from torch) (3.0.3)\n",
      "Requirement already satisfied: typing-extensions in /opt/conda/lib/python3.9/site-packages (from torch) (4.0.1)\n",
      "Collecting filelock\n",
      "  Downloading filelock-3.13.1-py3-none-any.whl (11 kB)\n",
      "Collecting nvidia-cuda-cupti-cu12==12.1.105\n",
      "  Downloading nvidia_cuda_cupti_cu12-12.1.105-py3-none-manylinux1_x86_64.whl (14.1 MB)\n",
      "\u001b[2K     \u001b[90m━━━━━━━━━━━━━━━━━━━━━━━━━━━━━━━━━━━━━━━━\u001b[0m \u001b[32m14.1/14.1 MB\u001b[0m \u001b[31m55.5 MB/s\u001b[0m eta \u001b[36m0:00:00\u001b[0m00:01\u001b[0m00:01\u001b[0m\n",
      "\u001b[?25hCollecting nvidia-cusparse-cu12==12.1.0.106\n",
      "  Downloading nvidia_cusparse_cu12-12.1.0.106-py3-none-manylinux1_x86_64.whl (196.0 MB)\n",
      "\u001b[2K     \u001b[90m━━━━━━━━━━━━━━━━━━━━━━━━━━━━━━━━━━━━━━\u001b[0m \u001b[32m196.0/196.0 MB\u001b[0m \u001b[31m24.4 MB/s\u001b[0m eta \u001b[36m0:00:00\u001b[0m00:01\u001b[0m00:01\u001b[0m\n",
      "\u001b[?25hCollecting nvidia-cudnn-cu12==8.9.2.26\n",
      "  Downloading nvidia_cudnn_cu12-8.9.2.26-py3-none-manylinux1_x86_64.whl (731.7 MB)\n",
      "\u001b[2K     \u001b[90m━━━━━━━━━━━━━━━━━━━━━━━━━━━━━━━━━━━━━━━\u001b[0m \u001b[32m731.7/731.7 MB\u001b[0m \u001b[31m8.9 MB/s\u001b[0m eta \u001b[36m0:00:00\u001b[0m00:01\u001b[0m00:01\u001b[0m\n",
      "\u001b[?25hCollecting nvidia-nccl-cu12==2.18.1\n",
      "  Downloading nvidia_nccl_cu12-2.18.1-py3-none-manylinux1_x86_64.whl (209.8 MB)\n",
      "\u001b[2K     \u001b[90m━━━━━━━━━━━━━━━━━━━━━━━━━━━━━━━━━━━━━━\u001b[0m \u001b[32m209.8/209.8 MB\u001b[0m \u001b[31m19.7 MB/s\u001b[0m eta \u001b[36m0:00:00\u001b[0m00:01\u001b[0m00:01\u001b[0m\n",
      "\u001b[?25hCollecting nvidia-cuda-runtime-cu12==12.1.105\n",
      "  Downloading nvidia_cuda_runtime_cu12-12.1.105-py3-none-manylinux1_x86_64.whl (823 kB)\n",
      "\u001b[2K     \u001b[90m━━━━━━━━━━━━━━━━━━━━━━━━━━━━━━━━━━━━━━\u001b[0m \u001b[32m823.6/823.6 KB\u001b[0m \u001b[31m67.8 MB/s\u001b[0m eta \u001b[36m0:00:00\u001b[0m\n",
      "\u001b[?25hCollecting nvidia-cufft-cu12==11.0.2.54\n",
      "  Downloading nvidia_cufft_cu12-11.0.2.54-py3-none-manylinux1_x86_64.whl (121.6 MB)\n",
      "\u001b[2K     \u001b[90m━━━━━━━━━━━━━━━━━━━━━━━━━━━━━━━━━━━━━━\u001b[0m \u001b[32m121.6/121.6 MB\u001b[0m \u001b[31m25.4 MB/s\u001b[0m eta \u001b[36m0:00:00\u001b[0m00:01\u001b[0m00:01\u001b[0m\n",
      "\u001b[?25hCollecting nvidia-nvjitlink-cu12\n",
      "  Downloading nvidia_nvjitlink_cu12-12.3.101-py3-none-manylinux1_x86_64.whl (20.5 MB)\n",
      "\u001b[2K     \u001b[90m━━━━━━━━━━━━━━━━━━━━━━━━━━━━━━━━━━━━━━━━\u001b[0m \u001b[32m20.5/20.5 MB\u001b[0m \u001b[31m42.0 MB/s\u001b[0m eta \u001b[36m0:00:00\u001b[0m00:01\u001b[0m00:01\u001b[0m\n",
      "\u001b[?25hRequirement already satisfied: MarkupSafe>=2.0 in /opt/conda/lib/python3.9/site-packages (from jinja2->torch) (2.0.1)\n",
      "Requirement already satisfied: mpmath>=0.19 in /opt/conda/lib/python3.9/site-packages (from sympy->torch) (1.2.1)\n",
      "Installing collected packages: nvidia-nvtx-cu12, nvidia-nvjitlink-cu12, nvidia-nccl-cu12, nvidia-curand-cu12, nvidia-cufft-cu12, nvidia-cuda-runtime-cu12, nvidia-cuda-nvrtc-cu12, nvidia-cuda-cupti-cu12, nvidia-cublas-cu12, filelock, triton, nvidia-cusparse-cu12, nvidia-cudnn-cu12, nvidia-cusolver-cu12, torch\n",
      "Successfully installed filelock-3.13.1 nvidia-cublas-cu12-12.1.3.1 nvidia-cuda-cupti-cu12-12.1.105 nvidia-cuda-nvrtc-cu12-12.1.105 nvidia-cuda-runtime-cu12-12.1.105 nvidia-cudnn-cu12-8.9.2.26 nvidia-cufft-cu12-11.0.2.54 nvidia-curand-cu12-10.3.2.106 nvidia-cusolver-cu12-11.4.5.107 nvidia-cusparse-cu12-12.1.0.106 nvidia-nccl-cu12-2.18.1 nvidia-nvjitlink-cu12-12.3.101 nvidia-nvtx-cu12-12.1.105 torch-2.1.2 triton-2.1.0\n"
     ]
    }
   ],
   "source": [
    "!pip install torch"
   ]
  },
  {
   "cell_type": "code",
   "execution_count": 169,
   "id": "9334a2b0-4409-4bef-a582-0aa89793e68f",
   "metadata": {},
   "outputs": [],
   "source": [
    "import torch\n",
    "import torch.nn.functional as F\n",
    "import matplotlib.pyplot as plt\n",
    "\n",
    "import numpy as np\n",
    "%matplotlib widget"
   ]
  },
  {
   "cell_type": "code",
   "execution_count": 7,
   "id": "7716058e-6063-43f4-ab3e-c356253a10c3",
   "metadata": {},
   "outputs": [
    {
     "data": {
      "text/plain": [
       "32033"
      ]
     },
     "execution_count": 7,
     "metadata": {},
     "output_type": "execute_result"
    }
   ],
   "source": [
    "words = open('names.txt', 'r').read().splitlines()\n",
    "len(words)"
   ]
  },
  {
   "cell_type": "code",
   "execution_count": 9,
   "id": "baeb3c55-6f63-454e-9d18-e3c8819efe50",
   "metadata": {},
   "outputs": [
    {
     "name": "stdout",
     "output_type": "stream",
     "text": [
      "{1: 'a', 2: 'b', 3: 'c', 4: 'd', 5: 'e', 6: 'f', 7: 'g', 8: 'h', 9: 'i', 10: 'j', 11: 'k', 12: 'l', 13: 'm', 14: 'n', 15: 'o', 16: 'p', 17: 'q', 18: 'r', 19: 's', 20: 't', 21: 'u', 22: 'v', 23: 'w', 24: 'x', 25: 'y', 26: 'z', 0: '.'}\n"
     ]
    }
   ],
   "source": [
    "chars = sorted(list(set(''.join(words))))\n",
    "stoi = {c: i+1 for i, c in enumerate(chars)}\n",
    "stoi['.'] = 0\n",
    "itos = {i: c for c, i in stoi.items()}\n",
    "print(itos)"
   ]
  },
  {
   "cell_type": "code",
   "execution_count": 105,
   "id": "180faeaa-ac78-4bcf-a40e-2c2882746ab9",
   "metadata": {},
   "outputs": [],
   "source": [
    "BLOCK_SIZE = 3\n",
    "\n",
    "X, Y = [], []\n",
    "for w in words:\n",
    "    # print(w)\n",
    "    context = [0] * BLOCK_SIZE\n",
    "    for ch in w + '.':\n",
    "        ix = stoi[ch]\n",
    "        X.append(context)\n",
    "        Y.append(ix)\n",
    "        # print(''.join(itos[i] for i in context), '--->', itos[ix])\n",
    "        context = context[1:] + [ix]\n",
    "        \n",
    "X= torch.tensor(X)\n",
    "Y = torch.tensor(Y)"
   ]
  },
  {
   "cell_type": "code",
   "execution_count": 106,
   "id": "1a888a1b-e3f3-40ef-9984-183582aaeb92",
   "metadata": {},
   "outputs": [
    {
     "data": {
      "text/plain": [
       "(torch.Size([228146, 3]), torch.int64, torch.Size([228146]), torch.int64)"
      ]
     },
     "execution_count": 106,
     "metadata": {},
     "output_type": "execute_result"
    }
   ],
   "source": [
    "X.shape, X.dtype, Y.shape, Y.dtype"
   ]
  },
  {
   "cell_type": "code",
   "execution_count": 12,
   "id": "b0e54714-788b-48b6-aa9c-2a2842461e6f",
   "metadata": {},
   "outputs": [],
   "source": [
    "C = torch.randn((27, 2))"
   ]
  },
  {
   "cell_type": "code",
   "execution_count": 16,
   "id": "fd8e75a9-46ec-4231-8052-b1912eea18ed",
   "metadata": {},
   "outputs": [
    {
     "data": {
      "text/plain": [
       "tensor(0)"
      ]
     },
     "execution_count": 16,
     "metadata": {},
     "output_type": "execute_result"
    }
   ],
   "source": [
    "X[1,0]"
   ]
  },
  {
   "cell_type": "code",
   "execution_count": 21,
   "id": "397ce5ee-c892-4013-b253-772d01d79bb3",
   "metadata": {},
   "outputs": [
    {
     "data": {
      "text/plain": [
       "tensor([[ 0,  0,  0],\n",
       "        [ 0,  0,  5],\n",
       "        [ 0,  5, 13],\n",
       "        [ 5, 13, 13],\n",
       "        [13, 13,  1],\n",
       "        [ 0,  0,  0],\n",
       "        [ 0,  0, 15],\n",
       "        [ 0, 15, 12],\n",
       "        [15, 12,  9],\n",
       "        [12,  9, 22],\n",
       "        [ 9, 22,  9],\n",
       "        [22,  9,  1],\n",
       "        [ 0,  0,  0],\n",
       "        [ 0,  0,  1],\n",
       "        [ 0,  1, 22],\n",
       "        [ 1, 22,  1],\n",
       "        [ 0,  0,  0],\n",
       "        [ 0,  0,  9],\n",
       "        [ 0,  9, 19],\n",
       "        [ 9, 19,  1],\n",
       "        [19,  1,  2],\n",
       "        [ 1,  2,  5],\n",
       "        [ 2,  5, 12],\n",
       "        [ 5, 12, 12],\n",
       "        [12, 12,  1],\n",
       "        [ 0,  0,  0],\n",
       "        [ 0,  0, 19],\n",
       "        [ 0, 19, 15],\n",
       "        [19, 15, 16],\n",
       "        [15, 16,  8],\n",
       "        [16,  8,  9],\n",
       "        [ 8,  9,  1]])"
      ]
     },
     "execution_count": 21,
     "metadata": {},
     "output_type": "execute_result"
    }
   ],
   "source": [
    "X"
   ]
  },
  {
   "cell_type": "code",
   "execution_count": 20,
   "id": "c135f3aa-6d44-413e-8120-dde23f2e4003",
   "metadata": {},
   "outputs": [
    {
     "data": {
      "text/plain": [
       "tensor([[ 0.3655, -1.3372],\n",
       "        [-0.5498, -1.7882],\n",
       "        [-0.0649,  0.4310]])"
      ]
     },
     "execution_count": 20,
     "metadata": {},
     "output_type": "execute_result"
    }
   ],
   "source": [
    "C[torch.tensor([5,6,7])]"
   ]
  },
  {
   "cell_type": "code",
   "execution_count": 24,
   "id": "7a318e23-ff38-4b43-b7c0-cbe46e5c9a62",
   "metadata": {},
   "outputs": [
    {
     "data": {
      "text/plain": [
       "torch.Size([32, 3, 2])"
      ]
     },
     "execution_count": 24,
     "metadata": {},
     "output_type": "execute_result"
    }
   ],
   "source": [
    "emb = C[X]  # this is the embedding vector for each of the character indexes\n",
    "emb.shape"
   ]
  },
  {
   "cell_type": "markdown",
   "id": "fff7c8ff-8a98-48d1-8933-468fc23b3949",
   "metadata": {},
   "source": [
    "### Hidden layer"
   ]
  },
  {
   "cell_type": "code",
   "execution_count": 25,
   "id": "4103447a-f75e-4bad-afab-c221a092cc6c",
   "metadata": {},
   "outputs": [],
   "source": [
    "h1_size = 100\n",
    "\n",
    "W1 = torch.randn((6, h1_size))\n",
    "b1 = torch.randn(h1_size)\n"
   ]
  },
  {
   "cell_type": "code",
   "execution_count": 41,
   "id": "0ba162b8-a98e-426e-9bb7-aaae51c612d0",
   "metadata": {},
   "outputs": [],
   "source": [
    "# want emb @ W1 + b1 -- need to reshape emb because it's 32, 3, 2 want 32, 6\n",
    "\n",
    "# there are different ways to do it\n",
    "import functools\n",
    "import operator"
   ]
  },
  {
   "cell_type": "code",
   "execution_count": 52,
   "id": "4a2fb9f6-e016-49de-8afd-5b00d24ea2f9",
   "metadata": {},
   "outputs": [
    {
     "name": "stdout",
     "output_type": "stream",
     "text": [
      "557 ns ± 5.75 ns per loop (mean ± std. dev. of 7 runs, 1,000,000 loops each)\n"
     ]
    }
   ],
   "source": [
    "%%timeit\n",
    "\n",
    "emb.reshape((32, 6) )"
   ]
  },
  {
   "cell_type": "code",
   "execution_count": 47,
   "id": "ca102641-12ec-48bf-97a3-f67959b3e60c",
   "metadata": {},
   "outputs": [
    {
     "name": "stdout",
     "output_type": "stream",
     "text": [
      "8.47 µs ± 42.1 ns per loop (mean ± std. dev. of 7 runs, 100,000 loops each)\n"
     ]
    }
   ],
   "source": [
    "%%timeit\n",
    "torch.cat((emb[:, 0, :], emb[:, 1, :], emb[:, 2, :]), dim=1)"
   ]
  },
  {
   "cell_type": "code",
   "execution_count": 48,
   "id": "53735330-9c73-41c0-8903-4f1133815ad1",
   "metadata": {},
   "outputs": [
    {
     "name": "stdout",
     "output_type": "stream",
     "text": [
      "3.58 µs ± 90.2 ns per loop (mean ± std. dev. of 7 runs, 100,000 loops each)\n"
     ]
    }
   ],
   "source": [
    "%%timeit\n",
    "torch.cat(torch.unbind(emb, 1), dim=1)"
   ]
  },
  {
   "cell_type": "code",
   "execution_count": 53,
   "id": "c3918933-3a18-47e7-a74a-c2d77560eef6",
   "metadata": {},
   "outputs": [
    {
     "name": "stdout",
     "output_type": "stream",
     "text": [
      "544 ns ± 6.89 ns per loop (mean ± std. dev. of 7 runs, 1,000,000 loops each)\n"
     ]
    }
   ],
   "source": [
    "%%timeit\n",
    "# storage offsets, strides, and shapes -- Eric pytorch internals\n",
    "emb.view(32, 6)"
   ]
  },
  {
   "cell_type": "code",
   "execution_count": 58,
   "id": "ca88ed0a-72b1-472f-b8c7-793420c019ea",
   "metadata": {},
   "outputs": [
    {
     "data": {
      "text/plain": [
       "(torch.Size([32, 100]), torch.float32)"
      ]
     },
     "execution_count": 58,
     "metadata": {},
     "output_type": "execute_result"
    }
   ],
   "source": [
    "h = torch.tanh(emb.view(-1, 6) @ W1 + b1)  # between -1 and 1 for tanh\n",
    "h.shape, h.dtype"
   ]
  },
  {
   "cell_type": "code",
   "execution_count": 60,
   "id": "f6d398ec-d384-4510-8710-d73f3fcb9e4a",
   "metadata": {},
   "outputs": [],
   "source": [
    "# + b1 broadcasting:\n",
    "# 32, 100\n",
    "#  1, 100\n",
    "#   b1 gets copied 100x, added to each row\n"
   ]
  },
  {
   "cell_type": "code",
   "execution_count": 67,
   "id": "e35a6e08-7da5-425c-b523-6349e245e201",
   "metadata": {},
   "outputs": [],
   "source": [
    "W2 = torch.randn((h1_size, 27))\n",
    "b2 = torch.randn(27)\n",
    "logits = h @ W2 + b2\n",
    "logits.shape\n",
    "\n",
    "counts = logits.exp()\n",
    "prob = counts / counts.sum(1, keepdims=True)\n"
   ]
  },
  {
   "cell_type": "code",
   "execution_count": 70,
   "id": "e4e2e400-bd0c-4db6-badb-d7a55a9cad5a",
   "metadata": {},
   "outputs": [
    {
     "data": {
      "text/plain": [
       "tensor(22.9184)"
      ]
     },
     "execution_count": 70,
     "metadata": {},
     "output_type": "execute_result"
    }
   ],
   "source": [
    "prob[torch.arange(32), Y]  # probability the NN gives to the correct character in the sequence\n",
    "\n",
    "loss = -prob[torch.arange(32), Y].log().mean()\n",
    "loss"
   ]
  },
  {
   "cell_type": "markdown",
   "id": "ecabaa38-0cc7-4a42-8bde-691a0f5af39f",
   "metadata": {},
   "source": [
    "#### Rewrite the model"
   ]
  },
  {
   "cell_type": "code",
   "execution_count": 167,
   "id": "1ea76bd7-ab6d-484e-9cac-21f08ff7e6c6",
   "metadata": {},
   "outputs": [
    {
     "name": "stdout",
     "output_type": "stream",
     "text": [
      "3481  parameters in the model\n"
     ]
    }
   ],
   "source": [
    "h_size = 100\n",
    "\n",
    "g = torch.Generator().manual_seed(2147483647)\n",
    "C = torch.randn((27, 2), generator=g)\n",
    "W1 = torch.randn((6, h_size), generator=g)\n",
    "b1 = torch.randn(h_size, generator=g)\n",
    "W2 = torch.randn((h_size, 27), generator=g)\n",
    "b2 = torch.randn(27, generator=g)\n",
    "\n",
    "parameters = [C, W1, b1, W2, b2]\n",
    "print(sum(p.nelement() for p in parameters), ' parameters in the model')\n",
    "for p in parameters:\n",
    "    p.requires_grad = True"
   ]
  },
  {
   "cell_type": "code",
   "execution_count": 173,
   "id": "b0ffc5d2-44d3-4f62-a6a6-e85220aa85c9",
   "metadata": {},
   "outputs": [
    {
     "name": "stdout",
     "output_type": "stream",
     "text": [
      "fit is  [3.32510648e-03 1.82901835e+01]\n",
      "CPU times: user 118 ms, sys: 3.63 ms, total: 122 ms\n",
      "Wall time: 22.5 ms\n"
     ]
    },
    {
     "data": {
      "text/plain": [
       "[<matplotlib.lines.Line2D at 0x7f248648dfd0>]"
      ]
     },
     "execution_count": 173,
     "metadata": {},
     "output_type": "execute_result"
    }
   ],
   "source": [
    "%%time\n",
    "\n",
    "batch_size = 32\n",
    "learning_rate = 0.0001\n",
    "\n",
    "losses = []\n",
    "\n",
    "\n",
    "for _ in range(100):\n",
    "    #minibatching\n",
    "    #   intuition: better to have approximate gradient and take more steps than have exact gradient and take fewer steps\n",
    "    ix = torch.randint(0, X.shape[0], (batch_size,), generator=g)\n",
    "    \n",
    "    emb = C[X[ix]]\n",
    "    h = torch.tanh(emb.view(-1, 6) @ W1 + b1)  # (32, 100)\n",
    "    logits = h @ W2 + b2\n",
    "    # counts = logits.exp()\n",
    "    # prob = counts / counts.sum(dim=1, keepdims=True)\n",
    "    # loss = -prob[torch.arange(32), Y].log().mean()\n",
    "    loss = F.cross_entropy(logits, Y[ix])\n",
    "\n",
    "\n",
    "    # why use F.cross_entropy? 1. Don't create intermediate tensors in memory; instead use fused kernels.\n",
    "    #   2. backward pass can be more efficient (mathematically too since we can compute closed form of the derivative)\n",
    "    #   3. numerical stability, e.g. when logits take on \"extreme\" values, we can't store e^100 as a float\n",
    "    #        pytorch internally calculates the max of the logits and subtracts it from logits (cross_entropy(logits) == cross_entropy(logits+C))\n",
    "\n",
    "\n",
    "    #backward pass\n",
    "    for p in parameters:\n",
    "        p.grad = None\n",
    "    loss.backward()\n",
    "\n",
    "    #update params\n",
    "    for p in parameters:\n",
    "        p.data += -learning_rate * p.grad\n",
    "        \n",
    "    losses.append(loss.item())\n"
   ]
  },
  {
   "cell_type": "code",
   "execution_count": 175,
   "id": "8a80dab7-7044-4256-b5cf-2fb9b97b7794",
   "metadata": {},
   "outputs": [
    {
     "name": "stdout",
     "output_type": "stream",
     "text": [
      "fit is  [3.32510648e-03 1.82901835e+01]\n"
     ]
    },
    {
     "data": {
      "text/plain": [
       "[<matplotlib.lines.Line2D at 0x7f24864620a0>]"
      ]
     },
     "execution_count": 175,
     "metadata": {},
     "output_type": "execute_result"
    },
    {
     "data": {
      "application/vnd.jupyter.widget-view+json": {
       "model_id": "05485ca0101146d78a582d0676aec447",
       "version_major": 2,
       "version_minor": 0
      },
      "image/png": "[encoded data removed]",
      "text/html": [
       "\n",
       "            <div style=\"display: inline-block;\">\n",
       "                <div class=\"jupyter-widgets widget-label\" style=\"text-align: center;\">\n",
       "                    Figure\n",
       "                </div>\n",
       "                <img src='data:image/png;base64,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' width=640.0/>\n",
       "            </div>\n",
       "        "
      ],
      "text/plain": [
       "Canvas(toolbar=Toolbar(toolitems=[('Home', 'Reset original view', 'home', 'home'), ('Back', 'Back to previous …"
      ]
     },
     "metadata": {},
     "output_type": "display_data"
    }
   ],
   "source": [
    "x = np.arange(len(losses))\n",
    "fit = np.polyfit(x, losses, 1)\n",
    "print('fit is ', fit)\n",
    "fit_fn = np.poly1d(fit)\n",
    "plt.figure()\n",
    "plt.plot(x, fit_fn(x), '--k', label='Linear Fit')\n",
    "plt.plot(losses)"
   ]
  },
  {
   "cell_type": "code",
   "execution_count": 161,
   "id": "968845c4-af1e-48b5-8bce-bd594464b71f",
   "metadata": {},
   "outputs": [
    {
     "data": {
      "text/plain": [
       "2.479339361190796"
      ]
     },
     "execution_count": 161,
     "metadata": {},
     "output_type": "execute_result"
    }
   ],
   "source": [
    "emb = C[X]\n",
    "h = torch.tanh(emb.view(-1, 6) @ W1 + b1)  # (32, 100)\n",
    "logits = h @ W2 + b2\n",
    "loss = F.cross_entropy(logits, Y)\n",
    "loss.item()"
   ]
  },
  {
   "cell_type": "code",
   "execution_count": 110,
   "id": "6d163c5b-e35c-44b8-8e65-4c4eba165994",
   "metadata": {},
   "outputs": [
    {
     "data": {
      "text/plain": [
       "torch.return_types.max(\n",
       "values=tensor([11.1060, 12.2761, 21.2780,  ..., 12.7578, 13.8984, 12.7344],\n",
       "       grad_fn=<MaxBackward0>),\n",
       "indices=tensor([ 9,  8,  9,  ..., 10, 11, 17]))"
      ]
     },
     "execution_count": 110,
     "metadata": {},
     "output_type": "execute_result"
    }
   ],
   "source": [
    "logits.max(1)"
   ]
  },
  {
   "cell_type": "markdown",
   "id": "2f3f6803-5b64-4d6f-b017-9bd3211cce76",
   "metadata": {},
   "source": [
    "There's a lower bound on the amount of error we can get because we have same inputs mapping to different outputs, e.g. ...-> e ...->o ...->m etc"
   ]
  },
  {
   "cell_type": "code",
   "execution_count": 114,
   "id": "0942849e-f0c0-4b96-8bd7-177e923a3f2c",
   "metadata": {},
   "outputs": [
    {
     "data": {
      "text/plain": [
       "tensor([209557, 173779, 222565,  47771, 189787,  88685, 150806,  87246,  58992,\n",
       "        165554, 225904, 102551,  56321,  49100,  88074,  50540, 124324, 198795,\n",
       "         65611, 108688, 154332,  79452,  91231, 140574, 182432,  40672, 116387,\n",
       "        161956,  52681, 191478,  71119,  68126])"
      ]
     },
     "execution_count": 114,
     "metadata": {},
     "output_type": "execute_result"
    }
   ],
   "source": [
    "# How do you determine the LR?"
   ]
  }
 ],
 "metadata": {
  "kernelspec": {
   "display_name": "Python 3 (ipykernel)",
   "language": "python",
   "name": "python3"
  },
  "language_info": {
   "codemirror_mode": {
    "name": "ipython",
    "version": 3
   },
   "file_extension": ".py",
   "mimetype": "text/x-python",
   "name": "python",
   "nbconvert_exporter": "python",
   "pygments_lexer": "ipython3",
   "version": "3.9.7"
  }
 },
 "nbformat": 4,
 "nbformat_minor": 5
}
